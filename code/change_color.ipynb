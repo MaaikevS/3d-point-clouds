{
 "cells": [
  {
   "attachments": {},
   "cell_type": "markdown",
   "metadata": {},
   "source": [
    "# Change the color of data points in a JSON file\n",
    "\n",
    "With this script you can change colours of data points in existing MeshView-compatible JSON files. \n",
    "\n",
    "There are two ways to change the RGB colors:\n",
    "1. Specify the colours in a separate excel file, e.g. 'colors.xlsx'.\n",
    "This excel file should have the following structure:\n",
    "    + column \"fileName\" : In this column the name of the files are defined (without the extension)\n",
    "    + column \"r\" : the red part of the RGB colour [0-255]\n",
    "    + column \"g\" : the green part of the RGB colour [0-255]\n",
    "    + column \"b\" : the blue part of the RGB colour [0-255] \n",
    "    \n",
    "2. Use the same RGB colour for all files you want to change. When asked the question \"What is the RGB code you want to use (e.g. 255 0 0):\" Fill in `255 0 0`, without brackets, but with space between the r, g, and b number.\n",
    "\n",
    "The json file will be overwritten with using the same file name (in the original folder)\n",
    "\n",
    "**Note:** If there are multiple sets of data points within one file, all of them will get the same color. If you want to give each set a different color, then you are better of changing the color first and creating a new custom cloud."
   ]
  },
  {
   "cell_type": "code",
   "execution_count": 1,
   "metadata": {},
   "outputs": [],
   "source": [
    "import json\n",
    "import os\n",
    "import pandas as pd\n",
    "from pathlib import Path\n"
   ]
  },
  {
   "attachments": {},
   "cell_type": "markdown",
   "metadata": {},
   "source": [
    "## Define the folder the files you want to change are stored in"
   ]
  },
  {
   "cell_type": "code",
   "execution_count": 2,
   "metadata": {},
   "outputs": [],
   "source": [
    "#  If files are located in a specific folder, or in a folder that is not part of the current working directory, define it here.\n",
    "folder_name = input(\"What is the folder name/file path the files are stored in? \")\n",
    "\n",
    "# Find the file names in the folder:\n",
    "fnames = [fname.__str__() for fname in sorted(Path(folder_name).rglob('*.json'))]"
   ]
  },
  {
   "attachments": {},
   "cell_type": "markdown",
   "metadata": {},
   "source": [
    "## Define the color you want to replace the current color with\n"
   ]
  },
  {
   "cell_type": "code",
   "execution_count": 12,
   "metadata": {},
   "outputs": [],
   "source": [
    "# Define the color of the data in the json file\n",
    "answer = input(\"Are colours defined in a separate file? Yes (y) or No (n): \")\n",
    "\n",
    "if answer == \"n\": \n",
    "    RGB = input(\"What is the RGB code you want to use (e.g. 255 0 0): \") \n",
    "    colors = {}\n",
    "    colors[\"r\"] = int(RGB.split(\" \")[0])\n",
    "    colors[\"g\"] = int(RGB.split(\" \")[1])\n",
    "    colors[\"b\"] = int(RGB.split(\" \")[2])\n",
    "    expNames = None\n",
    "elif answer == \"y\":\n",
    "    colour_file = input(\"What is the file name in which the colours are defined for each json file you want to change? \")\n",
    "    colors = pd.read_excel(colour_file + \".xlsx\")\n",
    "    expNames = colors.fileName.to_list()"
   ]
  },
  {
   "attachments": {},
   "cell_type": "markdown",
   "metadata": {},
   "source": [
    "## Function to update the color"
   ]
  },
  {
   "cell_type": "code",
   "execution_count": 14,
   "metadata": {},
   "outputs": [],
   "source": [
    "def update_color(fname, answer, colors, expNames=None):\n",
    "    exp_name = os.path.splitext(os.path.basename(fname))[0]\n",
    "    if expNames is not None:\n",
    "        r, g, b = (int(colors.r[i]) if answer == \"y\" and exp_name == str(expNames[i])\n",
    "                   else int(colors[\"r\"]) for i in range(len(expNames)))\n",
    "    else:\n",
    "        r = int(colors[\"r\"])\n",
    "        g = int(colors[\"g\"])\n",
    "        b = int(colors[\"b\"])\n",
    "\n",
    "    with open(fname, 'r') as f:\n",
    "        file = json.load(f)\n",
    "        for ii in range(len(file)):\n",
    "            file[ii][\"r\"] = r\n",
    "            file[ii][\"g\"] = g\n",
    "            file[ii][\"b\"] = b\n",
    "\n",
    "    with open(fname, 'w', encoding='utf-8') as f:\n",
    "        f.write(json.dumps(file, ensure_ascii=False, indent=4))\n"
   ]
  },
  {
   "attachments": {},
   "cell_type": "markdown",
   "metadata": {},
   "source": [
    "## Change the color of all files using the function above"
   ]
  },
  {
   "cell_type": "code",
   "execution_count": null,
   "metadata": {},
   "outputs": [],
   "source": [
    "# Loop over all files and change the color\n",
    "for fname in fnames:\n",
    "    update_color(fname, answer, colors, expNames)\n"
   ]
  }
 ],
 "metadata": {
  "kernelspec": {
   "display_name": "base",
   "language": "python",
   "name": "python3"
  },
  "language_info": {
   "codemirror_mode": {
    "name": "ipython",
    "version": 3
   },
   "file_extension": ".py",
   "mimetype": "text/x-python",
   "name": "python",
   "nbconvert_exporter": "python",
   "pygments_lexer": "ipython3",
   "version": "3.8.3"
  },
  "orig_nbformat": 4,
  "vscode": {
   "interpreter": {
    "hash": "65747024ff2feda9d45d54fef14313a73f026ac80ef7ca2f452fcc1ca90b45f3"
   }
  }
 },
 "nbformat": 4,
 "nbformat_minor": 2
}
