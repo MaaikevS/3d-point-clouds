{
 "cells": [
  {
   "attachments": {},
   "cell_type": "markdown",
   "metadata": {},
   "source": [
    "## Compare extraction method in the same animal\n",
    "\n",
    "This script allows you to compare point clouds that were extracted manually or automatically. Manually extracted point clouds can be found in dataset with [DOI: 10.25493/AJVE-B8G](https://search.kg.ebrains.eu/instances/27dd2588-f4da-406c-9d01-8569bf912b0e) and the automatically extracted point clouds can be found in dataset with [DOI: 10.25493/QT31-PJS](https://search.kg.ebrains.eu/instances/4660e79b-a731-40ac-905e-46d0d11c0dd5). The output file can be visualized in [Meshview](https://meshview.apps.hbp.eu/?atlas=ABA_Mouse_CCFv3_2017_25um). \n",
    "\n",
    "For this example we chose the following two cases:\n",
    "- **114292355_SSPll** (manually extracted points are depicted in light blue, automatically extracted points are depicted in dark blue)\n",
    "- **141602484_MOs** (manually extracted points are depicted in beige, automatically extracted points are depicted in brown)\n",
    "\n"
   ]
  },
  {
   "cell_type": "code",
   "execution_count": 1,
   "metadata": {},
   "outputs": [],
   "source": [
    "# Import packages\n",
    "import json\n",
    "import os\n",
    "from pathlib import Path\n"
   ]
  },
  {
   "attachments": {},
   "cell_type": "markdown",
   "metadata": {},
   "source": [
    "## Create output folder and find the experiment files\n",
    "Ensure that the experiment files downloaded from EBRAINS are in the data folder"
   ]
  },
  {
   "cell_type": "code",
   "execution_count": null,
   "metadata": {},
   "outputs": [],
   "source": [
    "# Data folder\n",
    "data_folder = os.path.join(\"..\", \"data\")\n",
    "\n",
    "# Check if output folder exist, if not create the folder\n",
    "output_folder = os.path.join(\"..\", \"output\")\n",
    "if not os.path.exists(output_folder):\n",
    "   os.makedirs(output_folder)\n",
    "   print(\"The new directory is created!\")"
   ]
  },
  {
   "attachments": {},
   "cell_type": "markdown",
   "metadata": {},
   "source": [
    "## Define the cases of interest"
   ]
  },
  {
   "cell_type": "code",
   "execution_count": 2,
   "metadata": {},
   "outputs": [],
   "source": [
    "\n",
    "data = {\n",
    "    \"case_names\": [\n",
    "        {\"type\": \"manual\", \"name\": \"WT-control_114292355_SSPll\"},   # manual extraction\n",
    "        {\"type\": \"manual\", \"name\": \"WT-control_141602484_MOs\"},     # manual extraction\n",
    "        {\"type\": \"automatic\", \"name\": \"114292355_SSPll\"},           # automatic extraction\n",
    "        {\"type\": \"automatic\", \"name\": \"141602484_MOs\"}              # automatic extraction\n",
    "    ],\n",
    "    \"colors\": {\n",
    "        \"manual_114292355_SSPll\" : [171, 219, 227], \n",
    "        \"automatic_114292355_SSPll\" : [6, 57, 112], \n",
    "        \"manual_141602484_MOs\" : [234, 182, 118], \n",
    "        \"automatic_141602484_MOs\" : [135, 62, 35]\n",
    "    }\n",
    "}\n"
   ]
  },
  {
   "attachments": {},
   "cell_type": "markdown",
   "metadata": {},
   "source": [
    "## Create the JSON file"
   ]
  },
  {
   "cell_type": "code",
   "execution_count": 3,
   "metadata": {},
   "outputs": [
    {
     "name": "stdout",
     "output_type": "stream",
     "text": [
      "Saving file output\\compare_extraction-method.json\n",
      "Done!\n"
     ]
    }
   ],
   "source": [
    "# function to speed up writing the JSON files (works well for large point clouds)\n",
    "def chunked_json_dump(data, file, chunk_size=1024):\n",
    "    for i in range(0, len(data), chunk_size):\n",
    "        file.write(json.dumps(data[i:i+chunk_size], ensure_ascii=False))\n",
    "\n",
    "\n",
    "points_list = []\n",
    "\n",
    "for exp in data[\"case_names\"]:\n",
    "    extraction_type = exp[\"type\"]\n",
    "    expName = exp[\"name\"]\n",
    "    fname = sorted(Path().rglob(f\"{expName}.json\"))[0]\n",
    "\n",
    "    with open(fname, \"r\") as f:\n",
    "        points = json.load(f)\n",
    "\n",
    "    # select the correct area (automatic ones have 4 brain regions)\n",
    "    point_cloud = points[0] if extraction_type == \"manual\" else points[2]\n",
    "\n",
    "    # Update name and colors\n",
    "    name = \"_\".join(expName.split(\"_\")[-2:])\n",
    "    point_cloud[\"name\"] = f\"{extraction_type}_{name}\"\n",
    "    rgb = data[\"colors\"][f\"{extraction_type}_{name}\"]\n",
    "    point_cloud.update({\"r\": rgb[0], \"g\": rgb[1], \"b\": rgb[2]})\n",
    "\n",
    "    # append the point clouds to the list to create only one output file\n",
    "    points_list.append(point_cloud)\n",
    "\n",
    "# Saving the JSON file\n",
    "out_file = os.path.join(output_folder,f\"compare_extraction-method.json\")\n",
    "print(f\"Saving file {out_file}\")\n",
    "with open(out_file, 'w', encoding='utf-8') as fi:\n",
    "    chunked_json_dump(points_list, fi)\n",
    "\n",
    "print(\"Done!\")"
   ]
  }
 ],
 "metadata": {
  "kernelspec": {
   "display_name": "base",
   "language": "python",
   "name": "python3"
  },
  "language_info": {
   "codemirror_mode": {
    "name": "ipython",
    "version": 3
   },
   "file_extension": ".py",
   "mimetype": "text/x-python",
   "name": "python",
   "nbconvert_exporter": "python",
   "pygments_lexer": "ipython3",
   "version": "3.8.3"
  },
  "orig_nbformat": 4,
  "vscode": {
   "interpreter": {
    "hash": "65747024ff2feda9d45d54fef14313a73f026ac80ef7ca2f452fcc1ca90b45f3"
   }
  }
 },
 "nbformat": 4,
 "nbformat_minor": 2
}
