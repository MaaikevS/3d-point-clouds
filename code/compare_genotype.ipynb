{
 "cells": [
  {
   "attachments": {},
   "cell_type": "markdown",
   "metadata": {},
   "source": [
    "## Compare two different genotypes\n",
    "\n",
    "This script allows you to create a JSON file with point cloud data of two groups of animals with different genotypes (wildtype C57BL/6J and transgenic Nex-cKO-Pos) ([DOI: 10.25493/AJVE-B8G](https://search.kg.ebrains.eu/instances/27dd2588-f4da-406c-9d01-8569bf912b0e)), which can be visualized in [Meshview](https://meshview.apps.hbp.eu/?atlas=ABA_Mouse_CCFv3_2017_25um).\n",
    "\n",
    "The WT control is depicted in blue and the Nex-cKO-Pos animal is dipicted in red.\n",
    "| WT-controls | Color WT | Nex-cKO| Color Nex-cKO |\n",
    "|---|---|---|---|\n",
    "|112229814_SSpul | Blue [0, 0, 255] |19423_7_SSpul   | Red [255, 0, 0] |\n",
    "\n",
    "\n"
   ]
  },
  {
   "cell_type": "code",
   "execution_count": 1,
   "metadata": {},
   "outputs": [],
   "source": [
    "# Import packages\n",
    "import json\n",
    "import os\n",
    "from pathlib import Path\n",
    "import itertools\n"
   ]
  },
  {
   "attachments": {},
   "cell_type": "markdown",
   "metadata": {},
   "source": [
    "## Define the cases of interest"
   ]
  },
  {
   "cell_type": "code",
   "execution_count": 2,
   "metadata": {},
   "outputs": [],
   "source": [
    "# First select the cases that we want to compare\n",
    "cases = [\n",
    "    {\n",
    "    \"group\": \"WT-controls\", \n",
    "    \"case\" : [\n",
    "        {\"name\": \"112229814_SSpul\", \"color\": [0, 0, 255]}\n",
    "        ]\n",
    "    },\n",
    "    {\n",
    "    \"group\": \"Nex-cKO\", \n",
    "    \"case\" : [\n",
    "        {\"name\": \"19423_7_SSpul\", \"color\": [255, 0, 0]}\n",
    "        ]\n",
    "    }\n",
    "]\n"
   ]
  },
  {
   "attachments": {},
   "cell_type": "markdown",
   "metadata": {},
   "source": [
    "## Create output folder and find the experiment files\n",
    "Ensure that the experiment files downloaded from EBRAINS are in the data folder"
   ]
  },
  {
   "cell_type": "code",
   "execution_count": 3,
   "metadata": {},
   "outputs": [],
   "source": [
    "# Data folder\n",
    "data_folder = os.path.join(\"..\", \"data\")\n",
    "\n",
    "# Check if output folder exist, if not create the folder\n",
    "output_folder = os.path.join(\"..\", \"output\")\n",
    "if not os.path.exists(output_folder):\n",
    "   os.makedirs(output_folder)\n",
    "   print(\"The new directory is created!\")\n",
    "\n",
    "fnames = []\n",
    "for group in cases:\n",
    "  group_list = []\n",
    "  for case in group['case']:\n",
    "    expName = case['name']\n",
    "    fname = sorted(Path(data_folder).rglob(f\"*{expName}*.json\"))\n",
    "    group_list.append(fname[0])\n",
    "  fnames.append(group_list)\n"
   ]
  },
  {
   "attachments": {},
   "cell_type": "markdown",
   "metadata": {},
   "source": [
    "## Create the JSON file for the comparison of point clouds based on genotype"
   ]
  },
  {
   "cell_type": "code",
   "execution_count": 4,
   "metadata": {},
   "outputs": [
    {
     "name": "stdout",
     "output_type": "stream",
     "text": [
      "Saving file ..\\output\\compare_genotype.json\n",
      "Done!\n"
     ]
    }
   ],
   "source": [
    "points_list = []\n",
    "\n",
    "for case in cases:\n",
    "    group_name = case['group']\n",
    "    for count, case_info in enumerate(case['case']):\n",
    "        fname = fnames[cases.index(case)][count]\n",
    "        expName = os.path.splitext(os.path.basename(fname))[0]\n",
    "        \n",
    "        with open(fname, 'r') as f:\n",
    "            points = json.load(f)\n",
    "\n",
    "        # select the correct area (WT ones have 4 brain regions)\n",
    "        point_cloud = points[0] if group_name == \"Nex-cKO\" else points[2]    \n",
    "        \n",
    "        point_cloud.update({\n",
    "            \"name\": expName,\n",
    "            \"r\": int(case_info['color'][0]),\n",
    "            \"g\": int(case_info['color'][1]),\n",
    "            \"b\": int(case_info['color'][2])\n",
    "        })\n",
    "        \n",
    "        points_list.append(point_cloud)\n",
    "\n",
    "# To speed up saving of the JSON file - works well for large point clouds\n",
    "def chunked_json_dump(data, file, chunk_size=1024):\n",
    "    for i in range(0, len(data), chunk_size):\n",
    "        file.write(json.dumps(data[i:i+chunk_size], ensure_ascii=False))\n",
    "\n",
    "# Saving the JSON file\n",
    "out_file = os.path.join(output_folder, f\"compare_genotype.json\")\n",
    "print(f\"Saving file {out_file}\")\n",
    "with open(out_file, 'w', encoding='utf-8') as fi:\n",
    "    chunked_json_dump(points_list, fi)\n",
    "\n",
    "print(\"Done!\")"
   ]
  }
 ],
 "metadata": {
  "kernelspec": {
   "display_name": "base",
   "language": "python",
   "name": "python3"
  },
  "language_info": {
   "codemirror_mode": {
    "name": "ipython",
    "version": 3
   },
   "file_extension": ".py",
   "mimetype": "text/x-python",
   "name": "python",
   "nbconvert_exporter": "python",
   "pygments_lexer": "ipython3",
   "version": "3.8.3"
  },
  "orig_nbformat": 4,
  "vscode": {
   "interpreter": {
    "hash": "65747024ff2feda9d45d54fef14313a73f026ac80ef7ca2f452fcc1ca90b45f3"
   }
  }
 },
 "nbformat": 4,
 "nbformat_minor": 2
}
