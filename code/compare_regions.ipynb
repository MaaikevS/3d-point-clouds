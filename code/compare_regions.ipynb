{
 "cells": [
  {
   "attachments": {},
   "cell_type": "markdown",
   "metadata": {},
   "source": [
    "## Compare regions within the same animal\n",
    "\n",
    "This script allows you to create point clouds for the comparison of projection patterns to four regions of interest within the same animal. The topographical projection pattern depends on where the tracer was injected. We selected 3 cases from the wild type dataset (DOI: [10.25493/GDYP-B1B](https://doi.org/10.25493/GDYP-B1B)). The resulting output file can be used for visualization in [Meshview](https://meshview.apps.hbp.eu/?atlas=ABA_Mouse_CCFv3_2017_25um). \n",
    "\n",
    "| Case Number | Injection site | Colour | RGB |\n",
    "|--|--|--|--|\n",
    "|114290938 | Mouth region        | Red    | [255, 0, 0] |\n",
    "|112229814 | Upper limb region   | Yellow | [0, 255, 255] | \n",
    "|114290355 | Lower limb region   | Blue   | [0, 0, 255] |"
   ]
  },
  {
   "cell_type": "code",
   "execution_count": 1,
   "metadata": {},
   "outputs": [],
   "source": [
    "# Import packages\n",
    "import json\n",
    "import os\n",
    "from pathlib import Path\n"
   ]
  },
  {
   "attachments": {},
   "cell_type": "markdown",
   "metadata": {},
   "source": [
    "## Create output folder if it does not exist yet"
   ]
  },
  {
   "cell_type": "code",
   "execution_count": 2,
   "metadata": {},
   "outputs": [],
   "source": [
    "# Data folder\n",
    "data_folder = os.path.join(\"..\", \"data\")\n",
    "\n",
    "# Check if output folder exist, if not create the folder\n",
    "output_folder = os.path.join(\"..\", \"output\")\n",
    "if not os.path.exists(output_folder):\n",
    "   os.makedirs(output_folder)\n",
    "   print(\"The new directory is created!\")"
   ]
  },
  {
   "attachments": {},
   "cell_type": "markdown",
   "metadata": {},
   "source": [
    "## Define the cases and load the file names\n",
    "Ensure that the experiment files downloaded from EBRAINS are in the data folder"
   ]
  },
  {
   "cell_type": "code",
   "execution_count": 3,
   "metadata": {},
   "outputs": [],
   "source": [
    "cases = [\n",
    "    {\"name\": \"114290938_SSpm\", \"color\": [255, 0, 0]},\n",
    "    {\"name\": \"112229814_SSpul\", \"color\": [255, 255, 0]},\n",
    "    {\"name\": \"114292355_SSpll\", \"color\": [0, 0, 255]}\n",
    "]\n",
    "\n",
    "fnames = sorted(fname for case in cases for fname in Path(data_folder).rglob(f\"{case['name']}.json\"))\n",
    "fnames = list(map(str, fnames))\n"
   ]
  },
  {
   "attachments": {},
   "cell_type": "markdown",
   "metadata": {},
   "source": [
    "## Create the JSON files"
   ]
  },
  {
   "cell_type": "code",
   "execution_count": 4,
   "metadata": {},
   "outputs": [
    {
     "name": "stdout",
     "output_type": "stream",
     "text": [
      "Saving file ..\\output\\compare_Caudoputamen.json\n",
      "Saving file ..\\output\\compare_Thalamus.json\n",
      "Saving file ..\\output\\compare_PontineNuclei.json\n",
      "Saving file ..\\output\\compare_SuperiorColliculus.json\n",
      "Done!\n"
     ]
    }
   ],
   "source": [
    "region_mapping = {\n",
    "    \"Caudoputamen\": \"caudo\",\n",
    "    \"Thalamus\": \"thalamus\",\n",
    "    \"PontineNuclei\": \"pons\",\n",
    "    \"SuperiorColliculus\": \"sc\"\n",
    "}\n",
    "\n",
    "points_dict = {region: [] for region in region_mapping.values()}\n",
    "\n",
    "for fname, case in zip(fnames, cases):\n",
    "    exp_name = os.path.splitext(os.path.basename(fname))[0]\n",
    "    with open(fname, 'r') as f:\n",
    "        points = json.load(f)\n",
    "\n",
    "        for d in points:\n",
    "            region = d['name'].replace(\" \", \"\")\n",
    "            d[\"name\"] = exp_name\n",
    "            d[\"r\"], d[\"g\"], d[\"b\"] = map(int, case['color'])\n",
    "\n",
    "            if region in region_mapping:\n",
    "                points_dict[region_mapping[region]].append(d)\n",
    "\n",
    "points_list = [points_dict]\n",
    "\n",
    "def chunked_json_dump(data, file, chunk_size=1024):\n",
    "    for i in range(0, len(data), chunk_size):\n",
    "        file.write(json.dumps(data[i:i+chunk_size], ensure_ascii=False))\n",
    "\n",
    "# Saving the JSON file\n",
    "for region, region_key in region_mapping.items():\n",
    "    out_file = os.path.join(output_folder, f\"compare_{region}.json\")\n",
    "    print(f\"Saving file {out_file}\")\n",
    "    with open(out_file, 'w', encoding='utf-8') as fi:\n",
    "        chunked_json_dump(points_dict[region_key], fi)\n",
    "\n",
    "print(\"Done!\")\n"
   ]
  }
 ],
 "metadata": {
  "kernelspec": {
   "display_name": "base",
   "language": "python",
   "name": "python3"
  },
  "language_info": {
   "codemirror_mode": {
    "name": "ipython",
    "version": 3
   },
   "file_extension": ".py",
   "mimetype": "text/x-python",
   "name": "python",
   "nbconvert_exporter": "python",
   "pygments_lexer": "ipython3",
   "version": "3.8.3"
  },
  "orig_nbformat": 4,
  "vscode": {
   "interpreter": {
    "hash": "65747024ff2feda9d45d54fef14313a73f026ac80ef7ca2f452fcc1ca90b45f3"
   }
  }
 },
 "nbformat": 4,
 "nbformat_minor": 2
}
