{
 "cells": [
  {
   "attachments": {},
   "cell_type": "markdown",
   "metadata": {},
   "source": [
    "## Custom selection for visualising 3D point clouds (transgenic mouse)\n",
    "\n",
    "This script allows you to create custom 3D point clouds of tracer data (DOI: [10.25493/HVEV-2JG](https://doi.org/10.25493/HVEV-2JG)) for the visualization in Meshview. \n",
    "\n",
    "The script needs to be placed on level above the subject folder (if you download the dataset as it is, the script is in the correct location). You will be asked 2 questions: \n",
    "1) What is the region of interest? \n",
    "2) Which experiments are you interested in?\n",
    "\n",
    "In the table below, you find an overview of the experiment number, experiment name, the injection site and the color the data is visualized in. \n",
    "  \n",
    "<div>\n",
    "<img src=\"img/transgenic_injections.png\" width=\"500\"/>\n",
    "</div>\n",
    "\n",
    "Once you have defined the region of interest and the experiments you want to visualize the data of, a custom made JSON file will be created with this relevant information. You can visualize these to [Meshview](https://meshview.apps.hbp.eu/?atlas=ABA_Mouse_CCFv3_2017_25um) via \"Choose files\"."
   ]
  },
  {
   "attachments": {},
   "cell_type": "markdown",
   "metadata": {},
   "source": [
    "\n",
    "<div>\n",
    "<img src=\"img/transgenic_overviewtable.png\"/>\n",
    "</div>"
   ]
  },
  {
   "cell_type": "code",
   "execution_count": 1,
   "metadata": {},
   "outputs": [],
   "source": [
    "# Import packages\n",
    "import json\n",
    "import os\n",
    "import pandas as pd\n",
    "from pathlib import Path"
   ]
  },
  {
   "cell_type": "code",
   "execution_count": 2,
   "metadata": {},
   "outputs": [],
   "source": [
    "# Data folder\n",
    "data_folder = os.path.join(\"..\", \"data\")\n",
    "\n",
    "# Check if output folder exist, if not create the folder\n",
    "output_folder = os.path.join(\"..\", \"output\")\n",
    "if not os.path.exists(output_folder):\n",
    "   os.makedirs(output_folder)\n",
    "   print(\"The new directory is created!\")\n",
    "   \n",
    "expInfo = pd.read_excel(os.path.join(\"..\", \"ExpOverview.xlsx\"), sheet_name=\"transgenic\")"
   ]
  },
  {
   "attachments": {},
   "cell_type": "markdown",
   "metadata": {},
   "source": [
    "### Please answer the following 2 questions.\n",
    "\n",
    "**What is your region of interest?** Select only 1 region.\n",
    "\n",
    "1) Thalamus \n",
    "2) Caudoputamen \n",
    "3) Pontine Nuclei \n",
    "4) Superior Colliculus \n",
    "\n",
    "**Which experiment numbers are you interested in?**\n",
    "\n",
    "Choose a number between 1-11 and separate the numbers with a comma (maximum of 10 different experiments).\n",
    "\n",
    "For example, if you are interested in all experiments with an injection site in a motor area, i.e. 297946935, 591612976, and 606785720, you should choose the following numbers: 6,10,11.\n",
    "\n"
   ]
  },
  {
   "cell_type": "code",
   "execution_count": 3,
   "metadata": {},
   "outputs": [
    {
     "name": "stdout",
     "output_type": "stream",
     "text": [
      "Selected ROI: PontineNuclei\n",
      "\n",
      "Selected experiments: 6,10,11\n",
      "\n"
     ]
    }
   ],
   "source": [
    "# First define the region of interest\n",
    "listOfROIs = [\"Thalamus\", \"Caudoputamen\", \"PontineNuclei\", \"SuperiorColliculus\"]\n",
    "ROI = 0\n",
    "while ROI not in [\"1\", \"2\", \"3\", \"4\"]:\n",
    "    ROI = input(\"What is your region of interest? 1) Thalamus, 2) Caudoputamen, 3) Pontine Nuclei, 4) Superior Colliculus \\n\")\n",
    "    if ROI not in [\"1\", \"2\", \"3\", \"4\"]:\n",
    "        print(\"Please select a number between 1 and 4!\\n\")\n",
    "    else:\n",
    "        print(\"Selected ROI: \" + listOfROIs[int(ROI)-1] + \"\\n\")\n",
    "\n",
    "# Then define which experiments you want to include\n",
    "EOI = input(\"Which experiment numbers are you interested in? Choose a number between 1-35, for example: 1,4,7: \\n\")\n",
    "print(\"Selected experiments: \" + EOI + \"\\n\")"
   ]
  },
  {
   "attachments": {},
   "cell_type": "markdown",
   "metadata": {},
   "source": [
    "Run the next cell to create a custom cloud for the region of interest and the experiments of interest. The output JSON file will be called: customCloud_ROI.json, where ROI can be Thalamus, Caudoputamen, PontineNuclei or SuperiorColliculus.\n",
    "\n",
    "Note: The point clouds are big files, so it may take up to 1 minute to compile."
   ]
  },
  {
   "cell_type": "code",
   "execution_count": 4,
   "metadata": {},
   "outputs": [
    {
     "name": "stdout",
     "output_type": "stream",
     "text": [
      "Saving file ..\\output\\customCloud_PontineNuclei.json\n",
      "Done!\n"
     ]
    }
   ],
   "source": [
    "# Load the original JSON files and merge them into one custom cloud visualization.\n",
    "listOfExp = EOI.split(\",\")\n",
    "listOfROIs = [\"Thalamus\", \"Caudoputamen\", \"PontineNuclei\", \"SuperiorColliculus\"]\n",
    "\n",
    "# Using the list of experiment numbers, select a subset of the data\n",
    "subset = expInfo.iloc[[int(index)-1 for index in listOfExp]].reset_index(drop=True)\n",
    "\n",
    "points = []\n",
    "points_list = {}\n",
    "for expName in subset.expName:\n",
    "    fname = sorted(Path(data_folder).rglob(f\"{expName}_{listOfROIs[int(ROI)-1]}.json\"))\n",
    "\n",
    "    with open(fname[0], 'r') as f:\n",
    "        points_list[expName] = json.load(f)\n",
    "    \n",
    "    points.append(points_list[expName][0])\n",
    "\n",
    "# Saving the JSON file\n",
    "out_file = os.path.join(output_folder, f\"customCloud_{listOfROIs[int(ROI)-1]}.json\")\n",
    "print(\"Saving file \" + out_file)\n",
    "with open(out_file, 'w', encoding='utf-8') as fi:\n",
    "    json.dump(points_list, fi, ensure_ascii=False)\n",
    "\n",
    "print(\"Done!\")"
   ]
  }
 ],
 "metadata": {
  "interpreter": {
   "hash": "65747024ff2feda9d45d54fef14313a73f026ac80ef7ca2f452fcc1ca90b45f3"
  },
  "kernelspec": {
   "display_name": "Python 3 (ipykernel)",
   "language": "python",
   "name": "python3"
  },
  "language_info": {
   "codemirror_mode": {
    "name": "ipython",
    "version": 3
   },
   "file_extension": ".py",
   "mimetype": "text/x-python",
   "name": "python",
   "nbconvert_exporter": "python",
   "pygments_lexer": "ipython3",
   "version": "3.8.3"
  }
 },
 "nbformat": 4,
 "nbformat_minor": 2
}
