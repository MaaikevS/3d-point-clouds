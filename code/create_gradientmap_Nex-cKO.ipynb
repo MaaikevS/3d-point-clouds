{
 "cells": [
  {
   "attachments": {},
   "cell_type": "markdown",
   "metadata": {},
   "source": [
    "## Create gradient maps based on input location\n",
    "\n",
    "This script allows you to create a gradient map of the available point clouds for a particular region of interest based on the topographical location of the cortical input of tracer data ([DOI: 10.25493/AJVE-B8G](https://search.kg.ebrains.eu/instances/27dd2588-f4da-406c-9d01-8569bf912b0e)) for the visualization in [Meshview](https://meshview.apps.hbp.eu/?atlas=ABA_Mouse_CCFv3_2017_25um). \n",
    "\n",
    "We use the following gradient colours:\n",
    "\n",
    "<div>\n",
    "    <img src=\"img/gradientColours.png\" width=\"1040\"/>\n",
    "</div>\n",
    "\n",
    "\n",
    "| Injection Sites  |\n",
    "| ------------- | \n",
    "|<img src=\"img/nex-cko_injections.png\" width=\"1020\"/>  |\n",
    "\n",
    "\n",
    "The cell below will create 6 JSON files, one file for each input gradient. The colour and the experiments for each input area have been predefined. Files are saved following the naming convention: Nex-cKO_[animal-group]_[gradient of segment].json (e.g. Nex-dataset_WT-controls_gradient1.json)"
   ]
  },
  {
   "cell_type": "code",
   "execution_count": 1,
   "metadata": {},
   "outputs": [],
   "source": [
    "# Import packages\n",
    "import json\n",
    "import os\n",
    "import pandas as pd\n",
    "import numpy as np\n",
    "from pathlib import Path"
   ]
  },
  {
   "attachments": {},
   "cell_type": "markdown",
   "metadata": {},
   "source": [
    "## Load experiment details"
   ]
  },
  {
   "cell_type": "code",
   "execution_count": 2,
   "metadata": {},
   "outputs": [],
   "source": [
    "# Data folder\n",
    "data_folder = os.path.join(\"..\", \"data\")\n",
    "\n",
    "# Check if output folder exist, if not create the folder\n",
    "output_folder = os.path.join(\"..\", \"output\")\n",
    "if not os.path.exists(output_folder):\n",
    "   os.makedirs(output_folder)\n",
    "   print(\"The new directory is created!\")\n",
    "\n",
    "# Load the experiment information\n",
    "expInfo = pd.read_excel(os.path.join(\"..\", \"ExpOverview.xlsx\"), sheet_name=\"Nex-cKO\")"
   ]
  },
  {
   "attachments": {},
   "cell_type": "markdown",
   "metadata": {},
   "source": [
    "## Select Genotype of Interest"
   ]
  },
  {
   "cell_type": "code",
   "execution_count": 3,
   "metadata": {},
   "outputs": [
    {
     "name": "stdout",
     "output_type": "stream",
     "text": [
      "Selected dataset: all-cases\n",
      "\n"
     ]
    }
   ],
   "source": [
    "# First define the genotype of interest\n",
    "listOfDatasets = [\"WT-controls\", \"littermate-controls\", \"Nex-cKO\", \"all-cases\"]\n",
    "dataset = 0\n",
    "while dataset not in [\"1\", \"2\", \"3\", \"4\"]:\n",
    "    dataset = input(\"What is your region of interest? 1) WT, 2) littermate controls, 3) Nex-cKO transgenic mice, 4) all cases\\n\")\n",
    "    if dataset not in [\"1\", \"2\", \"3\", \"4\"]:\n",
    "        print(\"Please select a number between 1 and 4!\\n\")\n",
    "    else:\n",
    "        print(f\"Selected dataset: {listOfDatasets[int(dataset)-1]}\\n\")"
   ]
  },
  {
   "attachments": {},
   "cell_type": "markdown",
   "metadata": {},
   "source": [
    "## Create the gradient files"
   ]
  },
  {
   "cell_type": "code",
   "execution_count": 4,
   "metadata": {},
   "outputs": [
    {
     "name": "stdout",
     "output_type": "stream",
     "text": [
      "Saving file ..\\output\\Nex-dataset_all-cases_gradient1.json\n",
      "Saving file ..\\output\\Nex-dataset_all-cases_gradient2.json\n",
      "Saving file ..\\output\\Nex-dataset_all-cases_gradient3.json\n",
      "Saving file ..\\output\\Nex-dataset_all-cases_gradient4.json\n",
      "Saving file ..\\output\\Nex-dataset_all-cases_gradient5.json\n",
      "Saving file ..\\output\\Nex-dataset_all-cases_gradient6.json\n",
      "Done!\n"
     ]
    }
   ],
   "source": [
    "gradient_color = [\n",
    "    [250, 250, 110],\n",
    "    [15, 223, 124],\n",
    "    [74, 189, 140],\n",
    "    [0, 150, 142],\n",
    "    [1, 110, 124],\n",
    "    [42, 72, 88]\n",
    "]\n",
    "\n",
    "for gradient_num in list(np.arange(1,7,1)):\n",
    "    nameFile = f\"gradient{gradient_num}\"\n",
    "    rgb = gradient_color[gradient_num-1]\n",
    "\n",
    "    # Make subselection based on chosen genotype and gradient\n",
    "    if dataset == \"1\":\n",
    "        subset = expInfo[(expInfo.genotype == \"C57BL/6J\") & (expInfo.gradient == gradient_num)].reset_index(drop=True)\n",
    "    elif dataset == \"2\":\n",
    "        subset = expInfo[(expInfo.genotype == \"Nex-cKO-Neg\") & (expInfo.gradient == gradient_num)].reset_index(drop=True)\n",
    "    elif dataset == \"3\":\n",
    "        subset = expInfo[(expInfo.genotype == \"Nex-cKO-Pos\") & (expInfo.gradient == gradient_num)].reset_index(drop=True)\n",
    "    else:\n",
    "        subset = expInfo[expInfo.gradient == gradient_num].reset_index(drop=True)\n",
    "\n",
    "    points_list = []\n",
    "    for expName in subset.expName:\n",
    "        fname = sorted(Path(data_folder).rglob(f\"*{expName}*.json\"))\n",
    "\n",
    "        with open(fname[0], 'r') as f:\n",
    "            points= json.load(f)\n",
    "        \n",
    "        points[0].update({\"r\": int(rgb[0]), \"g\": int(rgb[1]), \"b\": int(rgb[2])})\n",
    "        points_list.append(points[0])\n",
    "\n",
    "    # Saving the JSON file\n",
    "    out_file = os.path.join(output_folder, f\"Nex-dataset_{listOfDatasets[int(dataset)-1]}_{nameFile}.json\")\n",
    "    print(f\"Saving file {out_file}\")\n",
    "    with open(out_file, 'w', encoding='utf-8') as fi:\n",
    "        json.dump(points_list, fi, ensure_ascii=False)\n",
    "\n",
    "print(\"Done!\")\n"
   ]
  }
 ],
 "metadata": {
  "kernelspec": {
   "display_name": "base",
   "language": "python",
   "name": "python3"
  },
  "language_info": {
   "codemirror_mode": {
    "name": "ipython",
    "version": 3
   },
   "file_extension": ".py",
   "mimetype": "text/x-python",
   "name": "python",
   "nbconvert_exporter": "python",
   "pygments_lexer": "ipython3",
   "version": "3.8.3"
  },
  "orig_nbformat": 4,
  "vscode": {
   "interpreter": {
    "hash": "65747024ff2feda9d45d54fef14313a73f026ac80ef7ca2f452fcc1ca90b45f3"
   }
  }
 },
 "nbformat": 4,
 "nbformat_minor": 2
}
