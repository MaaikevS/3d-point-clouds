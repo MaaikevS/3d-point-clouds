{
 "cells": [
  {
   "attachments": {},
   "cell_type": "markdown",
   "metadata": {},
   "source": [
    "# Create gradient maps based on input location (Rat)\n",
    "\n",
    "This script allows you to create a gradient map of the available point clouds for the pontine nuclei based on the topographical location of the cortical input of tracer data (DOI: [10.25493/9TMN-64U](https://doi.org/10.25493/9TMN-64U) and DOI: [10.25493/ZSZ9-3NN](https://doi.org/10.25493/ZSZ9-3NN)) for the visualization in [Meshview](https://meshview.apps.hbp.eu/?atlas=WHS_SD_Rat_v4_39um). \n",
    "\n",
    "We use the following gradient colours:\n",
    "\n",
    "<div>\n",
    "    <img src=\"img/gradientColours.png\" width=\"1040\"/>\n",
    "</div>\n",
    "\n",
    "\n",
    "| Injection Sites  | Output Thalamus |\n",
    "| ------------- | ------------- |\n",
    "|<img src=\"img/rat_injections.png\" width=\"500\"/>  | <img src=\"img/rat_output.png\" width=\"500\"/> |\n",
    "\n",
    "The cell below will create 6 JSON files, one file for each input gradient. The colour and the experiments for each input area have been predefined. Files are saved following the naming convention: rat_[gradient of segment].json (e.g. rat_gradient1.json)"
   ]
  },
  {
   "cell_type": "code",
   "execution_count": 1,
   "metadata": {},
   "outputs": [],
   "source": [
    "# Import packages\n",
    "import json\n",
    "import os\n",
    "import pandas as pd\n",
    "import numpy as np\n",
    "from pathlib import Path\n"
   ]
  },
  {
   "attachments": {},
   "cell_type": "markdown",
   "metadata": {},
   "source": [
    "## Load experiment details"
   ]
  },
  {
   "cell_type": "code",
   "execution_count": 2,
   "metadata": {},
   "outputs": [],
   "source": [
    "# Data folder\n",
    "data_folder = os.path.join(\"..\", \"data\")\n",
    "\n",
    "# Check if output folder exist, if not create the folder\n",
    "output_folder = os.path.join(\"..\", \"output\")\n",
    "if not os.path.exists(output_folder):\n",
    "   os.makedirs(output_folder)\n",
    "   print(\"The new directory is created!\")\n",
    "   \n",
    "# Read the info of the two relevant datasets\n",
    "expInfo_d1 = pd.read_excel(os.path.join(\"..\", \"ExpOverview.xlsx\"), sheet_name=\"Rat_cortex\")\n",
    "expInfo_d2 = pd.read_excel(os.path.join(\"..\", \"ExpOverview.xlsx\"), sheet_name=\"Rat_SS\")\n",
    "expInfo = pd.concat([expInfo_d1, expInfo_d2]).dropna()"
   ]
  },
  {
   "attachments": {},
   "cell_type": "markdown",
   "metadata": {},
   "source": [
    "## Create the gradient files"
   ]
  },
  {
   "cell_type": "code",
   "execution_count": 3,
   "metadata": {},
   "outputs": [
    {
     "name": "stdout",
     "output_type": "stream",
     "text": [
      "Saving file ..\\output\\rat_gradient1.json\n",
      "Saving file ..\\output\\rat_gradient2.json\n",
      "Saving file ..\\output\\rat_gradient3.json\n",
      "Saving file ..\\output\\rat_gradient4.json\n",
      "Saving file ..\\output\\rat_gradient5.json\n",
      "Saving file ..\\output\\rat_gradient6.json\n",
      "Done!\n"
     ]
    }
   ],
   "source": [
    "gradient_color = [\n",
    "    [250, 250, 110],\n",
    "    [15, 223, 124],\n",
    "    [74, 189, 140],\n",
    "    [0, 150, 142],\n",
    "    [1, 110, 124],\n",
    "    [42, 72, 88]\n",
    "]\n",
    "\n",
    "for gradient_num in list(np.arange(1,7,1)):\n",
    "    nameFile = f\"gradient{gradient_num}\"\n",
    "    rgb = gradient_color[gradient_num-1]\n",
    "    subset = expInfo[expInfo.gradient == gradient_num].reset_index(drop=True)\n",
    "  \n",
    "    points_list = []\n",
    "    for expName in subset.expName:\n",
    "        fname = sorted(Path(data_folder).rglob(f\"{expName}.json\"))\n",
    "\n",
    "        with open(fname[0], 'r') as f:\n",
    "            points= json.load(f)\n",
    "            \n",
    "        points[0].update({\"r\": int(rgb[0]), \"g\": int(rgb[1]), \"b\": int(rgb[2])})\n",
    "        points_list.append(points[0])\n",
    "\n",
    "    # Saving the JSON file\n",
    "    out_file = os.path.join(output_folder, f\"rat_{nameFile}.json\")\n",
    "    print(f\"Saving file {out_file}\")\n",
    "    with open(out_file, 'w', encoding='utf-8') as fi:\n",
    "        json.dump(points_list, fi, ensure_ascii=False)\n",
    "\n",
    "print(\"Done!\")"
   ]
  }
 ],
 "metadata": {
  "kernelspec": {
   "display_name": "base",
   "language": "python",
   "name": "python3"
  },
  "language_info": {
   "codemirror_mode": {
    "name": "ipython",
    "version": 3
   },
   "file_extension": ".py",
   "mimetype": "text/x-python",
   "name": "python",
   "nbconvert_exporter": "python",
   "pygments_lexer": "ipython3",
   "version": "3.8.3"
  },
  "orig_nbformat": 4,
  "vscode": {
   "interpreter": {
    "hash": "65747024ff2feda9d45d54fef14313a73f026ac80ef7ca2f452fcc1ca90b45f3"
   }
  }
 },
 "nbformat": 4,
 "nbformat_minor": 2
}
